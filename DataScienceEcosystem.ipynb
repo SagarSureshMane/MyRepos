{
 "cells": [
  {
   "cell_type": "markdown",
   "id": "aeed21ba",
   "metadata": {},
   "source": [
    "# Data Science Tools and Eco System"
   ]
  },
  {
   "cell_type": "code",
   "execution_count": 4,
   "id": "65edd50c",
   "metadata": {},
   "outputs": [
    {
     "ename": "SyntaxError",
     "evalue": "invalid syntax (267261028.py, line 1)",
     "output_type": "error",
     "traceback": [
      "\u001b[1;36m  Cell \u001b[1;32mIn[4], line 1\u001b[1;36m\u001b[0m\n\u001b[1;33m    In this notebook, Data Sceince tools and Eco system are summarized\u001b[0m\n\u001b[1;37m       ^\u001b[0m\n\u001b[1;31mSyntaxError\u001b[0m\u001b[1;31m:\u001b[0m invalid syntax\n"
     ]
    }
   ],
   "source": [
    "In this notebook, Data Sceince tools and Eco system are summarized"
   ]
  },
  {
   "cell_type": "markdown",
   "id": "71f868cf",
   "metadata": {},
   "source": [
    "In this notebook, Data Sceinec tools ans Eco system ae summarized"
   ]
  },
  {
   "cell_type": "code",
   "execution_count": 6,
   "id": "5995112e",
   "metadata": {},
   "outputs": [
    {
     "ename": "SyntaxError",
     "evalue": "invalid syntax (1303483462.py, line 1)",
     "output_type": "error",
     "traceback": [
      "\u001b[1;36m  Cell \u001b[1;32mIn[6], line 1\u001b[1;36m\u001b[0m\n\u001b[1;33m    In this notebook, Data Science tools and Eco System are summarized\u001b[0m\n\u001b[1;37m       ^\u001b[0m\n\u001b[1;31mSyntaxError\u001b[0m\u001b[1;31m:\u001b[0m invalid syntax\n"
     ]
    }
   ],
   "source": [
    "In this notebook, Data Science tools and Eco System are summarized"
   ]
  },
  {
   "cell_type": "markdown",
   "id": "9b1f886c",
   "metadata": {},
   "source": [
    "In this notebook, Data Sceince tools and Eco syetem are summarized"
   ]
  },
  {
   "cell_type": "markdown",
   "id": "72fb8eed",
   "metadata": {},
   "source": [
    "some of the popular languages that data scientist are use are:\n",
    "  1. Python\n",
    "  2. R\n",
    "  3. Java\n",
    "  4. Julia\n",
    "  5. Scala"
   ]
  },
  {
   "cell_type": "markdown",
   "id": "c9189c71",
   "metadata": {},
   "source": [
    "Some of the commonly used libraries used by Data Scientists include:\n",
    "1. Numpy\n",
    "2. Pandas\n",
    "3. Scipy\n",
    "4. Matplotlib\n",
    "5. Tenserflow\n",
    "6. Seaborn"
   ]
  },
  {
   "cell_type": "markdown",
   "id": "2d664bcc",
   "metadata": {},
   "source": [
    "| Data Science Tools |\n",
    "|--------------------|\n",
    "| Data Mining and Transformation |\n",
    "| Data Analysis and Big Data Tools |\n",
    "| Data Deployment |\n",
    "| Data Visualization |"
   ]
  },
  {
   "cell_type": "markdown",
   "id": "0bf71430",
   "metadata": {},
   "source": [
    "### Below are a few exmples of evaluating arithmatic expressions in python\n"
   ]
  },
  {
   "cell_type": "code",
   "execution_count": 7,
   "id": "7fbadae1",
   "metadata": {},
   "outputs": [
    {
     "data": {
      "text/plain": [
       "17"
      ]
     },
     "execution_count": 7,
     "metadata": {},
     "output_type": "execute_result"
    }
   ],
   "source": [
    "#This is a Simple arithmatic expression to multiply then add integers\n",
    "(3*4)+5"
   ]
  },
  {
   "cell_type": "code",
   "execution_count": 8,
   "id": "c6f77bcf",
   "metadata": {},
   "outputs": [
    {
     "data": {
      "text/plain": [
       "3.3333333333333335"
      ]
     },
     "execution_count": 8,
     "metadata": {},
     "output_type": "execute_result"
    }
   ],
   "source": [
    "# This will convert 200 minutes into hours by dividing by 60\n",
    "200/60"
   ]
  },
  {
   "cell_type": "markdown",
   "id": "7b98b0ac",
   "metadata": {},
   "source": [
    "** Objectives: **\n",
    "In this notebook, Data Science tools and Eco System are summarized\n",
    "\n",
    "some of the popular languages that data scientist are use are:\n",
    "  1. Python\n",
    "  2. R\n",
    "  3. Java\n",
    "  4. Julia\n",
    "  5. Scala\n",
    "  \n",
    "Some of the commonly used libraries used by Data Scientists include:\n",
    "\n",
    "1. Numpy\n",
    "2. Pandas\n",
    "3. Scipy\n",
    "4. Matplotlib\n",
    "5. Tenserflow\n",
    "6. Seaborn\n",
    "\n",
    "| Data Science Tools |\n",
    "|--------------------|\n",
    "| Data Mining and Transformation |\n",
    "| Data Analysis and Big Data Tools |\n",
    "| Data Deployment |\n",
    "| Data Visualization |\n"
   ]
  },
  {
   "cell_type": "markdown",
   "id": "9346c744",
   "metadata": {},
   "source": [
    "## author. Sagar Suresh Mane"
   ]
  },
  {
   "cell_type": "code",
   "execution_count": null,
   "id": "09d685bf",
   "metadata": {},
   "outputs": [],
   "source": []
  }
 ],
 "metadata": {
  "kernelspec": {
   "display_name": "Python 3 (ipykernel)",
   "language": "python",
   "name": "python3"
  },
  "language_info": {
   "codemirror_mode": {
    "name": "ipython",
    "version": 3
   },
   "file_extension": ".py",
   "mimetype": "text/x-python",
   "name": "python",
   "nbconvert_exporter": "python",
   "pygments_lexer": "ipython3",
   "version": "3.11.5"
  }
 },
 "nbformat": 4,
 "nbformat_minor": 5
}
